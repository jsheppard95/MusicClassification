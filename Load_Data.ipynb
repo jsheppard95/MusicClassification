{
 "cells": [
  {
   "cell_type": "code",
   "execution_count": 1,
   "metadata": {},
   "outputs": [
    {
     "data": {
      "text/plain": [
       "b'Data\\nLoad_Data.ipynb\\nMultiClass_Classification_Practice.ipynb\\nMusicClassification.ipynb\\nREADME.md\\ntechnology.md\\n'"
      ]
     },
     "execution_count": 1,
     "metadata": {},
     "output_type": "execute_result"
    }
   ],
   "source": [
    "import subprocess\n",
    "import os\n",
    "subprocess.check_output('ls')"
   ]
  },
  {
   "cell_type": "code",
   "execution_count": 2,
   "metadata": {},
   "outputs": [
    {
     "data": {
      "text/plain": [
       "'/Users/Miles/desktop/Berkeley_Camp/MusicClassification/'"
      ]
     },
     "execution_count": 2,
     "metadata": {},
     "output_type": "execute_result"
    }
   ],
   "source": [
    "cwd_bytes = subprocess.check_output(\"pwd\")\n",
    "cwd = cwd_bytes.decode(\"utf-8\").rstrip(\"\\n\") + \"/\"\n",
    "cwd"
   ]
  },
  {
   "cell_type": "code",
   "execution_count": 3,
   "metadata": {},
   "outputs": [],
   "source": [
    "features_3_path  = \"Data/features_3_sec.csv\"\n",
    "features_30_path = \"Data/features_30_sec.csv\"\n",
    "genres_path = \"Data/genres_original/\"\n",
    "images_path = \"Data/images_original/\""
   ]
  },
  {
   "cell_type": "code",
   "execution_count": 4,
   "metadata": {
    "scrolled": true
   },
   "outputs": [
    {
     "data": {
      "text/plain": [
       "['blues',\n",
       " 'classical',\n",
       " 'country',\n",
       " 'disco',\n",
       " 'hiphop',\n",
       " 'jazz',\n",
       " 'metal',\n",
       " 'pop',\n",
       " 'reggae',\n",
       " 'rock']"
      ]
     },
     "execution_count": 4,
     "metadata": {},
     "output_type": "execute_result"
    }
   ],
   "source": [
    "# Roadmap:\n",
    "# 1: List genre directories in genres path and images path\n",
    "# 2.using ls, add to list to create list of files in all genres genres and images\n",
    "# 3. Then, Add each file to mongodb\n",
    "byte_genres = subprocess.check_output([\"ls\", cwd + genres_path])\n",
    "genre_folder = byte_genres.decode(\"utf-8\").split(\"\\n\")\n",
    "genre_folder.pop(-1)\n",
    "genre_folder"
   ]
  },
  {
   "cell_type": "code",
   "execution_count": 5,
   "metadata": {},
   "outputs": [
    {
     "data": {
      "text/plain": [
       "['blues',\n",
       " 'classical',\n",
       " 'country',\n",
       " 'disco',\n",
       " 'hiphop',\n",
       " 'jazz',\n",
       " 'metal',\n",
       " 'pop',\n",
       " 'reggae',\n",
       " 'rock']"
      ]
     },
     "execution_count": 5,
     "metadata": {},
     "output_type": "execute_result"
    }
   ],
   "source": [
    "byte_images = subprocess.check_output([\"ls\", cwd + images_path])\n",
    "images_folder = byte_images.decode(\"utf-8\").split(\"\\n\")\n",
    "images_folder.pop(-1)\n",
    "images_folder\n"
   ]
  },
  {
   "cell_type": "code",
   "execution_count": 6,
   "metadata": {},
   "outputs": [],
   "source": [
    "# For both genres and images folders: list all files\n",
    "# in each folder. Add to python list, iterate through this list,\n",
    "# put in mongodatabase using mongofiles\n",
    "\n",
    "for folder in genre_folder:\n",
    "    byte_files = subprocess.check_output([\"ls\", cwd + genres_path + folder])\n",
    "    files = byte_files.decode(\"utf-8\").split(\"\\n\")\n",
    "    files.pop(-1)\n",
    "\n",
    "    for file in files:\n",
    "        file_path = genres_path + folder + \"/\" + file\n",
    "        os.system(\"mongofiles -d=Music_db put \" + file_path)\n",
    "        \n",
    "        \n",
    "        \n"
   ]
  },
  {
   "cell_type": "code",
   "execution_count": 7,
   "metadata": {},
   "outputs": [],
   "source": [
    "for folder in images_folder:\n",
    "    byte_files = subprocess.check_output([\"ls\", cwd + images_path + folder])\n",
    "    files = byte_files.decode(\"utf-8\").split(\"\\n\")\n",
    "    files.pop(-1)\n",
    "\n",
    "    for file in files:\n",
    "        file_path = images_path + folder + \"/\" + file\n",
    "        os.system(\"mongofiles -d=Music_db put \" + file_path)"
   ]
  },
  {
   "cell_type": "code",
   "execution_count": 8,
   "metadata": {},
   "outputs": [
    {
     "data": {
      "text/plain": [
       "0"
      ]
     },
     "execution_count": 8,
     "metadata": {},
     "output_type": "execute_result"
    }
   ],
   "source": [
    "# Saves csv files as Mongodb collections\n",
    "os.system(f\"mongoimport -d Music_db -c feat_3 --type csv --file {features_3_path} --headerline\")\n",
    "os.system(f\"mongoimport -d Music_db -c feat_30 --type csv --file {features_30_path} --headerline\")"
   ]
  },
  {
   "cell_type": "code",
   "execution_count": 19,
   "metadata": {},
   "outputs": [
    {
     "data": {
      "text/plain": [
       "0"
      ]
     },
     "execution_count": 19,
     "metadata": {},
     "output_type": "execute_result"
    }
   ],
   "source": []
  },
  {
   "cell_type": "code",
   "execution_count": null,
   "metadata": {},
   "outputs": [],
   "source": []
  }
 ],
 "metadata": {
  "kernelspec": {
   "display_name": "PythonData",
   "language": "python",
   "name": "pythondata"
  },
  "language_info": {
   "codemirror_mode": {
    "name": "ipython",
    "version": 3
   },
   "file_extension": ".py",
   "mimetype": "text/x-python",
   "name": "python",
   "nbconvert_exporter": "python",
   "pygments_lexer": "ipython3",
   "version": "3.7.9"
  }
 },
 "nbformat": 4,
 "nbformat_minor": 4
}
