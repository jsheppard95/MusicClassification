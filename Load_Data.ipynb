{
 "cells": [
  {
   "cell_type": "code",
   "execution_count": 1,
   "metadata": {},
   "outputs": [],
   "source": [
    "import pymongo\n",
    "import os\n",
    "import glob\n",
    "from config import DB_NAME, FEAT_3_COLLECTION_NAME, FEAT_30_COLLECTION_NAME"
   ]
  },
  {
   "cell_type": "code",
   "execution_count": 2,
   "metadata": {
    "scrolled": true
   },
   "outputs": [
    {
     "name": "stdout",
     "output_type": "stream",
     "text": [
      "Collection(Database(MongoClient(host=['localhost:27017'], document_class=dict, tz_aware=False, connect=True), 'Music_db'), 'feat_30')\n",
      "Collection(Database(MongoClient(host=['localhost:27017'], document_class=dict, tz_aware=False, connect=True), 'Music_db'), 'feat_3')\n",
      "Collection(Database(MongoClient(host=['localhost:27017'], document_class=dict, tz_aware=False, connect=True), 'Music_db'), 'fs.files')\n",
      "Collection(Database(MongoClient(host=['localhost:27017'], document_class=dict, tz_aware=False, connect=True), 'Music_db'), 'fs.chunks')\n"
     ]
    }
   ],
   "source": [
    "# # If you need to reset mongoDB collections, run this cell\n",
    "client = pymongo.MongoClient('localhost')\n",
    "db = client[DB_NAME]\n",
    "collection_list = db.list_collection_names()\n",
    "\n",
    "for i in collection_list:\n",
    "    mycol = db[i]\n",
    "    print(mycol)\n",
    "    mycol.drop()"
   ]
  },
  {
   "cell_type": "code",
   "execution_count": 3,
   "metadata": {},
   "outputs": [],
   "source": [
    "# Set relative path to data files\n",
    "features_3_path  = os.path.join(\"Data\", \"features_3_sec.csv\")\n",
    "features_30_path = os.path.join(\"Data\", \"features_30_sec.csv\")\n",
    "genres_path = os.path.join(\"Data\", \"genres_original\")\n",
    "images_path = os.path.join(\"Data\", \"images_original\")"
   ]
  },
  {
   "cell_type": "code",
   "execution_count": 4,
   "metadata": {},
   "outputs": [],
   "source": [
    "# Extract genre folders with wav files\n",
    "genre_folders = glob.glob(os.path.join(genres_path, \"*\"))"
   ]
  },
  {
   "cell_type": "code",
   "execution_count": 5,
   "metadata": {},
   "outputs": [],
   "source": [
    "# Extract image folder with png files\n",
    "image_folders = glob.glob(os.path.join(images_path, \"*\"))"
   ]
  },
  {
   "cell_type": "code",
   "execution_count": 6,
   "metadata": {},
   "outputs": [],
   "source": [
    "# For both genres and images folders: list all files\n",
    "# in each folder. Add to python list, iterate through this list,\n",
    "# put in mongodatabase using mongofiles\n",
    "for folder in genre_folders:\n",
    "    files = glob.glob(os.path.join(folder, \"*\"))\n",
    "    for file in files:\n",
    "        os.system(f\"mongofiles -d={DB_NAME} put \" + file)"
   ]
  },
  {
   "cell_type": "code",
   "execution_count": 7,
   "metadata": {},
   "outputs": [],
   "source": [
    "for folder in image_folders:\n",
    "    files = glob.glob(os.path.join(folder, \"*\"))\n",
    "    for file in files:\n",
    "        os.system(f\"mongofiles -d={DB_NAME} put \" + file)"
   ]
  },
  {
   "cell_type": "code",
   "execution_count": 8,
   "metadata": {},
   "outputs": [
    {
     "data": {
      "text/plain": [
       "0"
      ]
     },
     "execution_count": 8,
     "metadata": {},
     "output_type": "execute_result"
    }
   ],
   "source": [
    "# Saves csv files as Mongodb collections\n",
    "os.system(f\"mongoimport -d {DB_NAME} -c {FEAT_3_COLLECTION_NAME} --type csv --file {features_3_path} --headerline\")\n",
    "os.system(f\"mongoimport -d {DB_NAME} -c {FEAT_30_COLLECTION_NAME} --type csv --file {features_30_path} --headerline\")"
   ]
  },
  {
   "cell_type": "code",
   "execution_count": null,
   "metadata": {},
   "outputs": [],
   "source": []
  }
 ],
 "metadata": {
  "kernelspec": {
   "display_name": "PythonData",
   "language": "python",
   "name": "pythondata"
  },
  "language_info": {
   "codemirror_mode": {
    "name": "ipython",
    "version": 3
   },
   "file_extension": ".py",
   "mimetype": "text/x-python",
   "name": "python",
   "nbconvert_exporter": "python",
   "pygments_lexer": "ipython3",
   "version": "3.7.6"
  }
 },
 "nbformat": 4,
 "nbformat_minor": 4
}
