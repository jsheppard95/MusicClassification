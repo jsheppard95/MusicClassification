{
 "cells": [
  {
   "cell_type": "code",
   "execution_count": 2,
   "metadata": {},
   "outputs": [],
   "source": [
    "import pymongo\n",
    "import subprocess\n",
    "import os\n",
    "from config import DB_NAME, FEAT_3_COLLECTION_NAME, FEAT_30_COLLECTION_NAME"
   ]
  },
  {
   "cell_type": "code",
   "execution_count": 14,
   "metadata": {
    "scrolled": true
   },
   "outputs": [
    {
     "name": "stdout",
     "output_type": "stream",
     "text": [
      "Collection(Database(MongoClient(host=['localhost:27017'], document_class=dict, tz_aware=False, connect=True), 'Music_db'), 'feat_30')\n",
      "Collection(Database(MongoClient(host=['localhost:27017'], document_class=dict, tz_aware=False, connect=True), 'Music_db'), 'fs.files')\n",
      "Collection(Database(MongoClient(host=['localhost:27017'], document_class=dict, tz_aware=False, connect=True), 'Music_db'), 'fs.chunks')\n",
      "Collection(Database(MongoClient(host=['localhost:27017'], document_class=dict, tz_aware=False, connect=True), 'Music_db'), 'feat_3')\n"
     ]
    },
    {
     "name": "stderr",
     "output_type": "stream",
     "text": [
      "C:\\Users\\Eric\\anaconda3\\envs\\PythonData\\lib\\site-packages\\ipykernel_launcher.py:4: DeprecationWarning: collection_names is deprecated. Use list_collection_names instead.\n",
      "  after removing the cwd from sys.path.\n"
     ]
    }
   ],
   "source": [
    "# # If you need to reset mongoDB collections, run this cell\n",
    "# client = pymongo.MongoClient('localhost')\n",
    "# db = client[DB_NAME]\n",
    "# collection_list = db.collection_names()\n",
    "\n",
    "# for i in collection_list:\n",
    "#     mycol = db[i]\n",
    "#     print(mycol)\n",
    "#     mycol.drop()"
   ]
  },
  {
   "cell_type": "code",
   "execution_count": 6,
   "metadata": {},
   "outputs": [],
   "source": [
    "cwd_bytes = subprocess.check_output(\"pwd\")\n",
    "cwd = cwd_bytes.decode(\"utf-8\").rstrip(\"\\n\") + \"/\""
   ]
  },
  {
   "cell_type": "code",
   "execution_count": 7,
   "metadata": {},
   "outputs": [],
   "source": [
    "features_3_path  = \"Data/features_3_sec.csv\"\n",
    "features_30_path = \"Data/features_30_sec.csv\"\n",
    "genres_path = \"Data/genres_original/\"\n",
    "images_path = \"Data/images_original/\""
   ]
  },
  {
   "cell_type": "code",
   "execution_count": 10,
   "metadata": {
    "scrolled": true
   },
   "outputs": [
    {
     "data": {
      "text/plain": [
       "['blues',\n",
       " 'classical',\n",
       " 'country',\n",
       " 'disco',\n",
       " 'hiphop',\n",
       " 'jazz',\n",
       " 'metal',\n",
       " 'pop',\n",
       " 'reggae',\n",
       " 'rock']"
      ]
     },
     "execution_count": 10,
     "metadata": {},
     "output_type": "execute_result"
    }
   ],
   "source": [
    "# Roadmap:\n",
    "# 1: List genre directories in genres path and images path\n",
    "# 2.using ls, add to list to create list of files in all genres genres and images\n",
    "# 3. Then, Add each file to mongodb\n",
    "byte_genres = subprocess.check_output([\"ls\", cwd + genres_path])\n",
    "genre_folder = byte_genres.decode(\"utf-8\").split(\"\\n\")\n",
    "genre_folder.pop(-1)\n",
    "genre_folder"
   ]
  },
  {
   "cell_type": "code",
   "execution_count": 11,
   "metadata": {},
   "outputs": [
    {
     "data": {
      "text/plain": [
       "['blues',\n",
       " 'classical',\n",
       " 'country',\n",
       " 'disco',\n",
       " 'hiphop',\n",
       " 'jazz',\n",
       " 'metal',\n",
       " 'pop',\n",
       " 'reggae',\n",
       " 'rock']"
      ]
     },
     "execution_count": 11,
     "metadata": {},
     "output_type": "execute_result"
    }
   ],
   "source": [
    "byte_images = subprocess.check_output([\"ls\", cwd + images_path])\n",
    "images_folder = byte_images.decode(\"utf-8\").split(\"\\n\")\n",
    "images_folder.pop(-1)\n",
    "images_folder"
   ]
  },
  {
   "cell_type": "code",
   "execution_count": 12,
   "metadata": {},
   "outputs": [],
   "source": [
    "# For both genres and images folders: list all files\n",
    "# in each folder. Add to python list, iterate through this list,\n",
    "# put in mongodatabase using mongofiles\n",
    "for folder in genre_folder:\n",
    "    byte_files = subprocess.check_output([\"ls\", cwd + genres_path + folder])\n",
    "    files = byte_files.decode(\"utf-8\").split(\"\\n\")\n",
    "    files.pop(-1)\n",
    "\n",
    "    for file in files:\n",
    "        file_path = genres_path + folder + \"/\" + file\n",
    "        os.system(f\"mongofiles -d={DB_NAME} put \" + file_path)"
   ]
  },
  {
   "cell_type": "code",
   "execution_count": 13,
   "metadata": {},
   "outputs": [],
   "source": [
    "for folder in images_folder:\n",
    "    byte_files = subprocess.check_output([\"ls\", cwd + images_path + folder])\n",
    "    files = byte_files.decode(\"utf-8\").split(\"\\n\")\n",
    "    files.pop(-1)\n",
    "\n",
    "    for file in files:\n",
    "        file_path = images_path + folder + \"/\" + file\n",
    "        os.system(f\"mongofiles -d={DB_NAME} put \" + file_path)"
   ]
  },
  {
   "cell_type": "code",
   "execution_count": 10,
   "metadata": {},
   "outputs": [
    {
     "data": {
      "text/plain": [
       "0"
      ]
     },
     "execution_count": 10,
     "metadata": {},
     "output_type": "execute_result"
    }
   ],
   "source": [
    "# Saves csv files as Mongodb collections\n",
    "os.system(f\"mongoimport -d {DB_NAME} -c {FEAT_3_COLLECTION_NAME} --type csv --file {features_3_path} --headerline\")\n",
    "os.system(f\"mongoimport -d {DB_NAME} -c {FEAT_30_COLLECTION_NAME} --type csv --file {features_30_path} --headerline\")"
   ]
  },
  {
   "cell_type": "code",
   "execution_count": null,
   "metadata": {},
   "outputs": [],
   "source": []
  }
 ],
 "metadata": {
  "kernelspec": {
   "display_name": "PythonData",
   "language": "python",
   "name": "pythondata"
  },
  "language_info": {
   "codemirror_mode": {
    "name": "ipython",
    "version": 3
   },
   "file_extension": ".py",
   "mimetype": "text/x-python",
   "name": "python",
   "nbconvert_exporter": "python",
   "pygments_lexer": "ipython3",
   "version": "3.7.9"
  }
 },
 "nbformat": 4,
 "nbformat_minor": 4
}
